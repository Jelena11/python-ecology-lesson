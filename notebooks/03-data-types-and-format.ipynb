{
 "cells": [
  {
   "cell_type": "markdown",
   "metadata": {},
   "source": [
    "# Data Types and Formats\n",
    "\n",
    "The format of individual columns and rows will impact analysis performed on a\n",
    "dataset read into python. For example, you can't perform mathematical\n",
    "calculations on a string (character formatted data). This might seem obvious,\n",
    "however sometimes numeric values are read into python as strings. In this\n",
    "situation, when you then try to perform calculations on the string-formatted\n",
    "numeric data, you get an error.\n",
    "\n",
    "In this lesson we will review ways to explore and better understand the\n",
    "structure and format of our data.\n",
    "\n",
    "## Learning Objectives\n",
    "\n",
    "* Learn about character and numeric data types.\n",
    "* Learn how to explore the structure of your data.\n",
    "* Understand NaN values and different ways to deal with them.\n",
    "\n",
    "\n",
    "# Types of Data\n",
    "\n",
    "How information is stored in a\n",
    "DataFrame or a python object affects what we can do with it and the outputs of\n",
    "calculations as well. There are two main types of data that we're explore in\n",
    "this lesson: numeric and character types.\n",
    "\n",
    "# Numeric Data Types\n",
    "\n",
    "Numeric data types include integers and floats. A **floating point** (known as a\n",
    "float) number has decimal points even if that decimal point value is 0. For\n",
    "example: 1.13, 2.0 1234.345. If we have a column that contains both integers and\n",
    "floating point numbers, Pandas will assign the entire column to the float data\n",
    "type so the decimal points are not lost.\n",
    "\n",
    "An **integer** will never have a decimal point. Thus 1.13 would be stored as 1.\n",
    "1234.345 is stored as 1234. You will often see the data type `Int64` in python\n",
    "which stands for 64 bit integer. The 64 simply refers to the memory allocated to\n",
    "store data in each cell which effectively relates to how many digits it can\n",
    "store in each \"cell\". Allocating space ahead of time allows computers to\n",
    "optimize storage and processing efficiency.\n",
    "\n",
    "## Character Data Types\n",
    "\n",
    "Strings, known as Objects in Pandas, are values that contain numbers and / or\n",
    "characters. For example, a string might be a word, a sentence, or several\n",
    "sentences. A Pandas object might also be a plot name like 'plot1'. A string can\n",
    "also contain or consist of numbers. For instance, '1234' could be stored as a\n",
    "string. As could '10.23'. However **strings that contain numbers can not be used\n",
    "for mathematical operations**!\n",
    "\n",
    "Pandas and base Python use slightly different names for data types. More on this\n",
    "is in the table below:\n",
    "\n",
    "| Pandas Type | Native Python Type | Description |\n",
    "|-------------|--------------------|-------------|\n",
    "| object | string | The most general dtype. Will be assigned to your column if column has mixed types (numbers and strings). |\n",
    "| int64  | int | Numeric characters. 64 refers to the memory allocated to hold this character. |\n",
    "| float64 | float | Numeric characters with decimals. If a column contains numbers and NaNs(see below), pandas will default to float64, in case your missing value has a decimal. |\n",
    "| datetime64, timedelta[ns] | N/A (but see the [datetime] module in Python's standard library) | Values meant to hold time data. Look into these for time series experiments. |\n",
    "\n",
    "[datetime]: http://doc.python.org/2/library/datetime.html\n"
   ]
  },
  {
   "cell_type": "code",
   "execution_count": null,
   "metadata": {
    "collapsed": true
   },
   "outputs": [],
   "source": []
  },
  {
   "cell_type": "code",
   "execution_count": null,
   "metadata": {
    "collapsed": true
   },
   "outputs": [],
   "source": []
  },
  {
   "cell_type": "code",
   "execution_count": null,
   "metadata": {
    "collapsed": true
   },
   "outputs": [],
   "source": []
  },
  {
   "cell_type": "code",
   "execution_count": null,
   "metadata": {
    "collapsed": true
   },
   "outputs": [],
   "source": []
  },
  {
   "cell_type": "markdown",
   "metadata": {},
   "source": [
    "## Checking the format of our data\n",
    "\n",
    "Now that we're armed with a basic understanding of numeric and character data\n",
    "types, let's explore the format of our survey data. We'll be working with the \n",
    "same `surveys.csv` dataset that we've used in previous lessons.\n",
    "\n",
    "```python\n",
    "# note that pd.read_csv is used because we imported pandas as pd\n",
    "surveys_df = pd.read_csv(\"https://ndownloader.figshare.com/files/2292172\")\n",
    "```\n",
    "\n",
    "Remember that we can check the type of an object like this:\n",
    "\n",
    "```python\n",
    "type(surveys_df)\n",
    "```\n",
    "\n",
    "**OUTPUT:** `pandas.core.frame.DataFrame`\n",
    "\n",
    "Next, let's look at the structure of our surveys data. In pandas, we can check\n",
    "the type of one column in a DataFrame using the syntax\n",
    "`dataFrameName[column_name].dtype`:\n",
    "\n",
    "```python\n",
    "surveys_df['sex'].dtype\n",
    "```\n",
    "\n",
    "**OUTPUT:** `dtype('O')`\n",
    "\n",
    "A type 'O' just stands for \"object\" which in Pandas' world is a string\n",
    "(characters).\n",
    "\n",
    "```python\n",
    "surveys_df['record_id'].dtype\n",
    "```\n",
    "\n",
    "**OUTPUT:** `dtype('int64')`\n",
    "\n",
    "The type `int64` tells us that python is storing each value within this column\n",
    "as a 64 bit integer. We can use the `dat.dtypes` command to view the data type\n",
    "for each column in a DataFrame (all at once).\n",
    "\n",
    "```python\n",
    "surveys_df.dtypes\n",
    "```\n",
    "\n",
    "which **returns**:\n",
    "\n",
    "```\n",
    "record_id            int64\n",
    "month                int64\n",
    "day                  int64\n",
    "year                 int64\n",
    "plot_id              int64\n",
    "species_id          object\n",
    "sex                 object\n",
    "hindfoot_length    float64\n",
    "weight             float64\n",
    "dtype: object\n",
    "```\n",
    "\n",
    "Note that most of the columns in our Survey data are of type `int64`. This means\n",
    "that they are 64 bit integers. But the weight column is a floating point value\n",
    "which means it contains decimals. The `species_id` and `sex` columns are objects which\n",
    "means they contain strings.\n"
   ]
  },
  {
   "cell_type": "code",
   "execution_count": 1,
   "metadata": {
    "collapsed": true
   },
   "outputs": [],
   "source": [
    "import pandas as pd\n",
    "surveys_url = 'https://raw.githubusercontent.com/weecology/portal-teachingdb/master/surveys.csv'\n",
    "surveys_df_github = pd.read_csv(surveys_url)\n",
    "# surveys_df_local = pd.read_csv('../data/surveys-github.csv')\n",
    "surveys_df = surveys_df_github"
   ]
  },
  {
   "cell_type": "code",
   "execution_count": null,
   "metadata": {
    "collapsed": true
   },
   "outputs": [],
   "source": []
  },
  {
   "cell_type": "code",
   "execution_count": null,
   "metadata": {
    "collapsed": true
   },
   "outputs": [],
   "source": []
  },
  {
   "cell_type": "code",
   "execution_count": null,
   "metadata": {
    "collapsed": true
   },
   "outputs": [],
   "source": []
  },
  {
   "cell_type": "markdown",
   "metadata": {},
   "source": [
    "## Working With Integers and Floats\n",
    "\n",
    "So we've learned that computers store numbers in one of two ways: as integers or\n",
    "as floating-point numbers (or floats). Integers are the numbers we usually count\n",
    "with. Floats have fractional parts (decimal places).  Let's next consider how\n",
    "the data type can impact mathematical operations on our data. Addition,\n",
    "subtraction, division and multiplication work on floats and integers as we'd expect.\n",
    "\n",
    "```python\n",
    "print(5+5)\n",
    "10\n",
    "\n",
    "print(24-4)\n",
    "20\n",
    "```\n",
    "\n",
    "If we divide one integer by another, we get a float.\n",
    "The result on python 3 is different than in python 2, where the result is an\n",
    "integer (integer division). \n",
    "\n",
    "```python\n",
    "print(5/9)\n",
    "0.5555555555555556\n",
    "\n",
    "print(10/3)\n",
    "3.3333333333333335\n",
    "```\n",
    "\n",
    "We can also convert a floating point number to an integer or an integer to\n",
    "floating point number. Notice that Python by default rounds down when it\n",
    "converts from floating point to integer.\n",
    "\n",
    "```python\n",
    "# convert a to integer\n",
    "a = 7.83\n",
    "int(a)\n",
    "7\n",
    "\n",
    "# convert to float\n",
    "b = 7\n",
    "float(b)\n",
    "7.0\n",
    "```\n"
   ]
  },
  {
   "cell_type": "code",
   "execution_count": null,
   "metadata": {
    "collapsed": true
   },
   "outputs": [],
   "source": []
  },
  {
   "cell_type": "code",
   "execution_count": null,
   "metadata": {
    "collapsed": true
   },
   "outputs": [],
   "source": []
  },
  {
   "cell_type": "code",
   "execution_count": null,
   "metadata": {
    "collapsed": true
   },
   "outputs": [],
   "source": []
  },
  {
   "cell_type": "code",
   "execution_count": null,
   "metadata": {
    "collapsed": true
   },
   "outputs": [],
   "source": []
  },
  {
   "cell_type": "markdown",
   "metadata": {},
   "source": [
    "# Working With Our Survey Data\n",
    "\n",
    "Getting back to our data, we can modify the format of values within our data, if\n",
    "we want. For instance, we could convert the `record_id` field to floating point\n",
    "values.\n",
    "\n",
    "```python\n",
    "# convert the record_id field from an integer to a float\n",
    "surveys_df['record_id'] = surveys_df['record_id'].astype('float64')\n",
    "surveys_df['record_id'].dtype\n",
    "```\n",
    "\n",
    "**OUTPUT:** `dtype('float64')`\n",
    "\n",
    "What happens if we try to convert weight values to integers?\n",
    "\n",
    "```python\n",
    "surveys_df['weight'].astype('int')\n",
    "```\n",
    "\n",
    "Notice that this throws a value error: `ValueError: Cannot convert NA to\n",
    "integer`. If we look at the `weight` column in the surveys data we notice that\n",
    "there are NaN (**N**ot **a** **N**umber) values. *NaN* values are undefined\n",
    "values that cannot be represented mathematically. Pandas, for example, will read\n",
    "an empty cell in a CSV or Excel sheet as a NaN. NaNs have some desirable\n",
    "properties: if we were to average the `weight` column without replacing our NaNs,\n",
    "Python would know to skip over those cells.\n",
    "\n",
    "```python\n",
    "surveys_df['weight'].mean()\n",
    "42.672428212991356\n",
    "```"
   ]
  },
  {
   "cell_type": "code",
   "execution_count": null,
   "metadata": {
    "collapsed": true
   },
   "outputs": [],
   "source": []
  },
  {
   "cell_type": "code",
   "execution_count": null,
   "metadata": {
    "collapsed": true
   },
   "outputs": [],
   "source": []
  },
  {
   "cell_type": "code",
   "execution_count": null,
   "metadata": {
    "collapsed": true
   },
   "outputs": [],
   "source": []
  },
  {
   "cell_type": "code",
   "execution_count": null,
   "metadata": {
    "collapsed": true
   },
   "outputs": [],
   "source": []
  },
  {
   "cell_type": "markdown",
   "metadata": {},
   "source": [
    "## Missing Data Values - NaN\n",
    "\n",
    "Dealing with missing data values is always a challenge. It's sometimes hard to\n",
    "know why values are missing - was it because of a data entry error? Or data that\n",
    "someone was unable to collect? Should the value be 0? We need to know how\n",
    "missing values are represented in the dataset in order to make good decisions.\n",
    "If we're lucky, we have some metadata that will tell us more about how null\n",
    "values were handled.\n",
    "\n",
    "For instance, in some disciplines, like Remote Sensing, missing data values are\n",
    "often defined as -9999. Having a bunch of -9999 values in your data could really\n",
    "alter numeric calculations. Often in spreadsheets, cells are left empty where no\n",
    "data are available. Pandas will, by default, replace those missing values with\n",
    "NaN. However it is good practice to get in the habit of intentionally marking\n",
    "cells that have no data, with a no data value! That way there are no questions\n",
    "in the future when you (or someone else) explores your data.\n",
    "\n",
    "### Where Are the NaN's?\n",
    "\n",
    "Let's explore the NaN values in our data a bit further. Using the tools we\n",
    "learned in lesson 02, we can figure out how many rows contain NaN values for\n",
    "weight. We can also create a new subset from our data that only contains rows\n",
    "with weight values > 0 (ie select meaningful weight values):\n",
    "\n",
    "```python\n",
    "len(surveys_df[pd.isnull(surveys_df.weight)])\n",
    "# how many rows have weight values?\n",
    "len(surveys_df[surveys_df.weight> 0])\n",
    "```\n",
    "\n",
    "We can replace all NaN values with zeroes using the `.fillna()` method (after\n",
    "making a copy of the data so we don't lose our work):\n",
    "\n",
    "```python\n",
    "df1 = surveys_df.copy()\n",
    "# fill all NaN values with 0\n",
    "df1['weight'] = df1['weight'].fillna(0)\n",
    "```\n",
    "\n",
    "However NaN and 0 yield different analysis results. The mean value when NaN\n",
    "values are replaced with 0 is different from when NaN values are simply thrown\n",
    "out or ignored.\n",
    "\n",
    "```python\n",
    "df1['weight'].mean()\n",
    "38.751976145601844\n",
    "```\n",
    "\n",
    "We can fill NaN values with any value that we chose. The code below fills all\n",
    "NaN values with a mean for all weight values.\n",
    "\n",
    "```python\n",
    " df1['weight'] = surveys_df['weight'].fillna(surveys_df['weight'].mean())\n",
    "```\n",
    "\n",
    "We could also chose to create a subset of our data, only keeping rows that do\n",
    "not contain NaN values.\n",
    "\n",
    "The point is to make conscious decisions about how to manage missing data. This\n",
    "is where we think about how our data will be used and how these values will\n",
    "impact the scientific conclusions made from the data.\n",
    "\n",
    "Python gives us all of the tools that we need to account for these issues. We\n",
    "just need to be cautious about how the decisions that we make impact scientific\n",
    "results.\n",
    "\n",
    "\n",
    "## Recap\n",
    "\n",
    "What we've learned:\n",
    "\n",
    "+ How to explore the data types of columns within a DataFrame\n",
    "+ How to change the data type\n",
    "+ What NaN values are, how they might be represented, and what this means for your work\n",
    "+ How to replace NaN values, if desired\n"
   ]
  },
  {
   "cell_type": "code",
   "execution_count": null,
   "metadata": {
    "collapsed": true
   },
   "outputs": [],
   "source": []
  },
  {
   "cell_type": "code",
   "execution_count": null,
   "metadata": {
    "collapsed": true
   },
   "outputs": [],
   "source": []
  },
  {
   "cell_type": "code",
   "execution_count": null,
   "metadata": {
    "collapsed": true
   },
   "outputs": [],
   "source": []
  },
  {
   "cell_type": "code",
   "execution_count": null,
   "metadata": {
    "collapsed": true
   },
   "outputs": [],
   "source": []
  }
 ],
 "metadata": {
  "anaconda-cloud": {},
  "kernelspec": {
   "display_name": "Python [conda env:py35]",
   "language": "python",
   "name": "conda-env-py35-py"
  },
  "language_info": {
   "codemirror_mode": {
    "name": "ipython",
    "version": 3
   },
   "file_extension": ".py",
   "mimetype": "text/x-python",
   "name": "python",
   "nbconvert_exporter": "python",
   "pygments_lexer": "ipython3",
   "version": "3.5.2"
  }
 },
 "nbformat": 4,
 "nbformat_minor": 1
}
